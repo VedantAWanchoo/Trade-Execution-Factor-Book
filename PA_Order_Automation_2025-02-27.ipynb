{
 "cells": [
  {
   "cell_type": "code",
   "execution_count": 1,
   "id": "96adf451",
   "metadata": {},
   "outputs": [],
   "source": [
    "import pandas as pd\n",
    "import numpy as np\n",
    "import math"
   ]
  },
  {
   "cell_type": "code",
   "execution_count": null,
   "id": "fca276f2",
   "metadata": {},
   "outputs": [],
   "source": []
  },
  {
   "cell_type": "code",
   "execution_count": 2,
   "id": "f53a8d37",
   "metadata": {},
   "outputs": [],
   "source": [
    "latest_file = r\"C:\\Users\\Vedant Wanchoo\\Desktop\\CGS 2020\\Portfolio Assembly\\Portfolio Assembly 26.78 Americas.xlsx\""
   ]
  },
  {
   "cell_type": "code",
   "execution_count": 3,
   "id": "3736a3cf",
   "metadata": {},
   "outputs": [],
   "source": [
    "sheet_start = 1\n",
    "sheet_end = 3"
   ]
  },
  {
   "cell_type": "code",
   "execution_count": 5,
   "id": "b31531f7",
   "metadata": {},
   "outputs": [],
   "source": [
    "a=5"
   ]
  },
  {
   "cell_type": "code",
   "execution_count": null,
   "id": "063beeb3-8400-4942-b413-4f789ab6bbb7",
   "metadata": {},
   "outputs": [],
   "source": []
  },
  {
   "cell_type": "markdown",
   "id": "331ea0d8",
   "metadata": {},
   "source": [
    "Find out the colours used in the PA file and what each colour means:"
   ]
  },
  {
   "cell_type": "code",
   "execution_count": 9,
   "id": "d2d822b7",
   "metadata": {},
   "outputs": [],
   "source": [
    "##\n",
    "\n",
    "import pandas as pd\n",
    "from openpyxl import load_workbook\n",
    "\n",
    "# Load the Excel file\n",
    "file_path = latest_file\n",
    "wb = load_workbook(file_path, data_only=True)\n",
    "\n",
    "# Extract relevant sheets (2nd to 15th, i.e., index 1 to 14)\n",
    "sheets_to_process = wb.sheetnames[sheet_start : sheet_end]\n",
    "\n",
    "# Store detected colors\n",
    "color_data = []\n",
    "\n",
    "for sheet_name in sheets_to_process:\n",
    "    ws = wb[sheet_name]\n",
    "\n",
    "    for row in ws.iter_rows(min_row=2, values_only=False):  \n",
    "        cell = row[1]  # Second column (index 1)\n",
    "\n",
    "        # Default values\n",
    "        fill_type = getattr(cell.fill.fgColor, \"type\", \"None\")\n",
    "        rgb_color = getattr(cell.fill.fgColor, \"rgb\", \"None\")\n",
    "        theme_color = getattr(cell.fill.fgColor, \"theme\", \"None\")\n",
    "\n",
    "        # ✅ Identify theme colors\n",
    "        if fill_type == \"theme\":\n",
    "            detected_color = f\"Theme Color Index {theme_color}\"\n",
    "        elif fill_type == \"rgb\":\n",
    "            detected_color = rgb_color[-6:].upper()  # Extract last 6 chars\n",
    "        else:\n",
    "            detected_color = \"None\"\n",
    "\n",
    "        # Store in list\n",
    "        color_data.append([sheet_name, cell.row, fill_type, detected_color])\n",
    "\n",
    "# Convert to DataFrame\n",
    "df_colors = pd.DataFrame(color_data, columns=[\"Sheet\", \"Row\", \"Fill Type\", \"Detected Color\"])\n",
    "\n",
    "# Save or print\n",
    "#print(df_colors)\n",
    "#df_colors.to_excel(\"theme_colors_detected.xlsx\", index=False)\n"
   ]
  },
  {
   "cell_type": "code",
   "execution_count": null,
   "id": "f7e99651",
   "metadata": {},
   "outputs": [],
   "source": []
  },
  {
   "cell_type": "code",
   "execution_count": 10,
   "id": "c3b5ceac",
   "metadata": {},
   "outputs": [
    {
     "data": {
      "text/plain": [
       "(253, 4)"
      ]
     },
     "execution_count": 10,
     "metadata": {},
     "output_type": "execute_result"
    }
   ],
   "source": [
    "df_colors.shape"
   ]
  },
  {
   "cell_type": "code",
   "execution_count": 11,
   "id": "dcf917bd",
   "metadata": {},
   "outputs": [],
   "source": [
    "#df_colors.iloc[150:160,:]"
   ]
  },
  {
   "cell_type": "code",
   "execution_count": null,
   "id": "be8c2072",
   "metadata": {},
   "outputs": [],
   "source": []
  },
  {
   "cell_type": "code",
   "execution_count": 12,
   "id": "0e7cd708",
   "metadata": {
    "scrolled": true
   },
   "outputs": [
    {
     "data": {
      "text/plain": [
       "['DDEBF7',\n",
       " 'Theme Color Index 9',\n",
       " 'Theme Color Index 1',\n",
       " 'Theme Color Index 7',\n",
       " '000000',\n",
       " '2F4D78',\n",
       " 'Theme Color Index 8']"
      ]
     },
     "execution_count": 12,
     "metadata": {},
     "output_type": "execute_result"
    }
   ],
   "source": [
    "df_colors[\"Detected Color\"].dropna().unique().tolist()"
   ]
  },
  {
   "cell_type": "code",
   "execution_count": null,
   "id": "9f58db29",
   "metadata": {},
   "outputs": [],
   "source": []
  },
  {
   "cell_type": "raw",
   "id": "d516b4bf",
   "metadata": {},
   "source": [
    "Useful Colours:\n",
    "\n",
    "Green Colour - Open Trades - Theme Color Index 9\n",
    "Yellow Colour - Close Trades - Theme Color Index 7\n",
    "Black Colour - Blacklist - Theme Color Index 1\n",
    "Blue Colour - Backup Trades - Theme Color Index 8\n",
    "\n",
    "\n",
    "Other Colours:\n",
    "\n",
    "White Colour - Gap b/w longs & shorts - 000000\n",
    "Dark Blue Colour - Header - 2F4D78\n",
    "Light Blue Colour - Default - DDEBF7"
   ]
  },
  {
   "cell_type": "code",
   "execution_count": null,
   "id": "af3acbe8",
   "metadata": {},
   "outputs": [],
   "source": []
  },
  {
   "cell_type": "code",
   "execution_count": null,
   "id": "ef44e986",
   "metadata": {},
   "outputs": [],
   "source": []
  },
  {
   "cell_type": "markdown",
   "id": "d9fc897e",
   "metadata": {},
   "source": [
    "Opening and Closing Trades Filtered:"
   ]
  },
  {
   "cell_type": "code",
   "execution_count": 13,
   "id": "ab920079",
   "metadata": {},
   "outputs": [],
   "source": [
    "##\n",
    "\n",
    "import pandas as pd\n",
    "from openpyxl import load_workbook\n",
    "\n",
    "# Load the Excel file\n",
    "file_path = latest_file\n",
    "wb = load_workbook(file_path, data_only=True)\n",
    "\n",
    "# Extract relevant sheets (2nd and 3rd sheet → index 1:3)\n",
    "sheets_to_process = wb.sheetnames[sheet_start : sheet_end]\n",
    "\n",
    "# Store rows separately for Theme Index 9 and 7\n",
    "open_trades_data = []\n",
    "close_trades_data = []\n",
    "\n",
    "for sheet_name in sheets_to_process:\n",
    "    ws = wb[sheet_name]\n",
    "\n",
    "    # Extract header (first row)\n",
    "    header = [cell.value for cell in next(ws.iter_rows(min_row=1, max_row=1))]\n",
    "\n",
    "    # Find the index of \"Long Score\" and \"Short Score\" columns\n",
    "    try:\n",
    "        long_score_idx = header.index(\"Long Score\")\n",
    "        short_score_idx = header.index(\"Short Score\")\n",
    "    except ValueError:\n",
    "        print(f\"⚠️ 'Long Score' or 'Short Score' column missing in {sheet_name}\")\n",
    "        continue  # Skip this sheet if columns are missing\n",
    "\n",
    "    # Add new column names to header\n",
    "    header.extend([\"Long Score FS\", \"Short Score FS\"])\n",
    "\n",
    "    for row in ws.iter_rows(min_row=2, values_only=False):  \n",
    "        cell = row[1]  # Second column (index 1)\n",
    "\n",
    "        # Default values\n",
    "        fill_type = getattr(cell.fill.fgColor, \"type\", \"None\")\n",
    "        theme_color = getattr(cell.fill.fgColor, \"theme\", None)\n",
    "\n",
    "        # Extract font sizes for \"Long Score\" & \"Short Score\"\n",
    "        long_score_fs = row[long_score_idx].font.sz if row[long_score_idx] else None\n",
    "        short_score_fs = row[short_score_idx].font.sz if row[short_score_idx] else None\n",
    "\n",
    "        # ✅ Extract rows for Theme Color Index 9 and 7\n",
    "        row_values = [c.value for c in row]  # Store row values\n",
    "        row_values.extend([long_score_fs, short_score_fs])  # Add font sizes\n",
    "\n",
    "        if fill_type == \"theme\":\n",
    "            if theme_color == 9:\n",
    "                open_trades_data.append(row_values)\n",
    "            elif theme_color == 7:\n",
    "                close_trades_data.append(row_values)\n",
    "\n",
    "# Convert to DataFrames\n",
    "open_trades = pd.DataFrame(open_trades_data, columns=header)\n",
    "close_trades = pd.DataFrame(close_trades_data, columns=header)\n"
   ]
  },
  {
   "cell_type": "code",
   "execution_count": null,
   "id": "24c8df7c",
   "metadata": {},
   "outputs": [],
   "source": []
  },
  {
   "cell_type": "code",
   "execution_count": 14,
   "id": "1f598e5b",
   "metadata": {},
   "outputs": [
    {
     "data": {
      "text/plain": [
       "(12, 30)"
      ]
     },
     "execution_count": 14,
     "metadata": {},
     "output_type": "execute_result"
    }
   ],
   "source": [
    "open_trades.shape"
   ]
  },
  {
   "cell_type": "code",
   "execution_count": 15,
   "id": "02369dfc",
   "metadata": {},
   "outputs": [
    {
     "data": {
      "text/plain": [
       "(7, 30)"
      ]
     },
     "execution_count": 15,
     "metadata": {},
     "output_type": "execute_result"
    }
   ],
   "source": [
    "close_trades.shape"
   ]
  },
  {
   "cell_type": "code",
   "execution_count": 16,
   "id": "d3b9ee9d",
   "metadata": {
    "scrolled": true
   },
   "outputs": [
    {
     "data": {
      "text/html": [
       "<div>\n",
       "<style scoped>\n",
       "    .dataframe tbody tr th:only-of-type {\n",
       "        vertical-align: middle;\n",
       "    }\n",
       "\n",
       "    .dataframe tbody tr th {\n",
       "        vertical-align: top;\n",
       "    }\n",
       "\n",
       "    .dataframe thead th {\n",
       "        text-align: right;\n",
       "    }\n",
       "</style>\n",
       "<table border=\"1\" class=\"dataframe\">\n",
       "  <thead>\n",
       "    <tr style=\"text-align: right;\">\n",
       "      <th></th>\n",
       "      <th>N</th>\n",
       "      <th>RIC</th>\n",
       "      <th>Name</th>\n",
       "      <th>Industry</th>\n",
       "      <th>GICS       Sector</th>\n",
       "      <th>Business Description</th>\n",
       "      <th>Long Score</th>\n",
       "      <th>Short Score</th>\n",
       "      <th>Mkt Cap mn USD</th>\n",
       "      <th>Current Holding (Shares)</th>\n",
       "      <th>...</th>\n",
       "      <th>Value</th>\n",
       "      <th>Volatility</th>\n",
       "      <th>Short Term</th>\n",
       "      <th>Investment</th>\n",
       "      <th>fx</th>\n",
       "      <th>Stock      Price</th>\n",
       "      <th>Blank</th>\n",
       "      <th>Ticker</th>\n",
       "      <th>Long Score FS</th>\n",
       "      <th>Short Score FS</th>\n",
       "    </tr>\n",
       "  </thead>\n",
       "  <tbody>\n",
       "    <tr>\n",
       "      <th>0</th>\n",
       "      <td>4</td>\n",
       "      <td>KTC_n.BK</td>\n",
       "      <td>Krungthai Card</td>\n",
       "      <td>Consumer Finance</td>\n",
       "      <td>Financials</td>\n",
       "      <td>Krungthai Card Public Company Limited is a Tha...</td>\n",
       "      <td>48</td>\n",
       "      <td>-3</td>\n",
       "      <td>3877</td>\n",
       "      <td>None</td>\n",
       "      <td>...</td>\n",
       "      <td>4</td>\n",
       "      <td>10</td>\n",
       "      <td>10</td>\n",
       "      <td>0</td>\n",
       "      <td>33.700</td>\n",
       "      <td>51.50</td>\n",
       "      <td>None</td>\n",
       "      <td>KTC</td>\n",
       "      <td>18.0</td>\n",
       "      <td>12.0</td>\n",
       "    </tr>\n",
       "    <tr>\n",
       "      <th>1</th>\n",
       "      <td>14</td>\n",
       "      <td>KKP_n.BK</td>\n",
       "      <td>Kiatnakin Phatra Bank</td>\n",
       "      <td>Banks</td>\n",
       "      <td>Financials</td>\n",
       "      <td>Kiatnakin Phatra Bank Public Company Limited i...</td>\n",
       "      <td>46</td>\n",
       "      <td>-2</td>\n",
       "      <td>1267</td>\n",
       "      <td>None</td>\n",
       "      <td>...</td>\n",
       "      <td>7</td>\n",
       "      <td>8</td>\n",
       "      <td>10</td>\n",
       "      <td>0</td>\n",
       "      <td>33.700</td>\n",
       "      <td>51.25</td>\n",
       "      <td>None</td>\n",
       "      <td>KKP</td>\n",
       "      <td>18.0</td>\n",
       "      <td>12.0</td>\n",
       "    </tr>\n",
       "    <tr>\n",
       "      <th>2</th>\n",
       "      <td>15</td>\n",
       "      <td>AFIN.KL</td>\n",
       "      <td>Affin Bank</td>\n",
       "      <td>Banks</td>\n",
       "      <td>Financials</td>\n",
       "      <td>Affin Bank Berhad (the Bank) is the financial ...</td>\n",
       "      <td>46</td>\n",
       "      <td>-2</td>\n",
       "      <td>1478</td>\n",
       "      <td>None</td>\n",
       "      <td>...</td>\n",
       "      <td>7</td>\n",
       "      <td>10</td>\n",
       "      <td>10</td>\n",
       "      <td>0</td>\n",
       "      <td>4.432</td>\n",
       "      <td>2.76</td>\n",
       "      <td>None</td>\n",
       "      <td>AFFIN</td>\n",
       "      <td>18.0</td>\n",
       "      <td>12.0</td>\n",
       "    </tr>\n",
       "    <tr>\n",
       "      <th>3</th>\n",
       "      <td>2</td>\n",
       "      <td>PGEO.JK</td>\n",
       "      <td>Pertamina Geothermal Energy</td>\n",
       "      <td>Independent Power and Renewable Electricity Pr...</td>\n",
       "      <td>Utilities</td>\n",
       "      <td>PT Pertamina Geothermal Energy Tbk is a geothe...</td>\n",
       "      <td>14</td>\n",
       "      <td>-20</td>\n",
       "      <td>2258</td>\n",
       "      <td>None</td>\n",
       "      <td>...</td>\n",
       "      <td>1</td>\n",
       "      <td>3</td>\n",
       "      <td>1</td>\n",
       "      <td>0</td>\n",
       "      <td>16255.000</td>\n",
       "      <td>885.00</td>\n",
       "      <td>None</td>\n",
       "      <td>PGEO</td>\n",
       "      <td>12.0</td>\n",
       "      <td>18.0</td>\n",
       "    </tr>\n",
       "    <tr>\n",
       "      <th>4</th>\n",
       "      <td>5</td>\n",
       "      <td>GPSC_n.BK</td>\n",
       "      <td>Global Power Synergy</td>\n",
       "      <td>Independent Power and Renewable Electricity Pr...</td>\n",
       "      <td>Utilities</td>\n",
       "      <td>Global Power Synergy Public Company Limited is...</td>\n",
       "      <td>18</td>\n",
       "      <td>-19</td>\n",
       "      <td>2192</td>\n",
       "      <td>None</td>\n",
       "      <td>...</td>\n",
       "      <td>5</td>\n",
       "      <td>4</td>\n",
       "      <td>2</td>\n",
       "      <td>0</td>\n",
       "      <td>33.700</td>\n",
       "      <td>27.50</td>\n",
       "      <td>None</td>\n",
       "      <td>GPSC</td>\n",
       "      <td>12.0</td>\n",
       "      <td>18.0</td>\n",
       "    </tr>\n",
       "    <tr>\n",
       "      <th>5</th>\n",
       "      <td>16</td>\n",
       "      <td>SPEE.KL</td>\n",
       "      <td>99 Speed Mart Retail</td>\n",
       "      <td>Consumer Staples Distribution &amp; Retail</td>\n",
       "      <td>Consumer Staples</td>\n",
       "      <td>99 Speed Mart Retail Holdings Berhad is a Mala...</td>\n",
       "      <td>28</td>\n",
       "      <td>-19</td>\n",
       "      <td>4153</td>\n",
       "      <td>None</td>\n",
       "      <td>...</td>\n",
       "      <td>2</td>\n",
       "      <td>7</td>\n",
       "      <td>3</td>\n",
       "      <td>-5</td>\n",
       "      <td>4.432</td>\n",
       "      <td>2.14</td>\n",
       "      <td>None</td>\n",
       "      <td>99SMART</td>\n",
       "      <td>12.0</td>\n",
       "      <td>18.0</td>\n",
       "    </tr>\n",
       "    <tr>\n",
       "      <th>6</th>\n",
       "      <td>17</td>\n",
       "      <td>FRAS.KL</td>\n",
       "      <td>Fraser and Neave</td>\n",
       "      <td>Beverages</td>\n",
       "      <td>Consumer Staples</td>\n",
       "      <td>Fraser &amp; Neave Holdings Bhd. is a Malaysia-bas...</td>\n",
       "      <td>32</td>\n",
       "      <td>-19</td>\n",
       "      <td>2201</td>\n",
       "      <td>None</td>\n",
       "      <td>...</td>\n",
       "      <td>5</td>\n",
       "      <td>9</td>\n",
       "      <td>1</td>\n",
       "      <td>0</td>\n",
       "      <td>4.432</td>\n",
       "      <td>26.22</td>\n",
       "      <td>None</td>\n",
       "      <td>F&amp;N</td>\n",
       "      <td>12.0</td>\n",
       "      <td>18.0</td>\n",
       "    </tr>\n",
       "    <tr>\n",
       "      <th>7</th>\n",
       "      <td>24</td>\n",
       "      <td>MIKA.JK</td>\n",
       "      <td>Mitra Keluarga Kyst</td>\n",
       "      <td>Health Care Providers &amp; Services</td>\n",
       "      <td>Health Care</td>\n",
       "      <td>PT Mitra Keluarga Karyasehat Tbk is an Indones...</td>\n",
       "      <td>24</td>\n",
       "      <td>-18</td>\n",
       "      <td>2147</td>\n",
       "      <td>None</td>\n",
       "      <td>...</td>\n",
       "      <td>2</td>\n",
       "      <td>4</td>\n",
       "      <td>1</td>\n",
       "      <td>0</td>\n",
       "      <td>16255.000</td>\n",
       "      <td>2490.00</td>\n",
       "      <td>None</td>\n",
       "      <td>MIKA</td>\n",
       "      <td>12.0</td>\n",
       "      <td>18.0</td>\n",
       "    </tr>\n",
       "    <tr>\n",
       "      <th>8</th>\n",
       "      <td>30</td>\n",
       "      <td>MBMA.JK</td>\n",
       "      <td>Merdeka Battery Materials</td>\n",
       "      <td>Metals &amp; Mining</td>\n",
       "      <td>Materials</td>\n",
       "      <td>PT Merdeka Battery Materials Tbk owns assets i...</td>\n",
       "      <td>11</td>\n",
       "      <td>-17</td>\n",
       "      <td>2602</td>\n",
       "      <td>None</td>\n",
       "      <td>...</td>\n",
       "      <td>1</td>\n",
       "      <td>2</td>\n",
       "      <td>4</td>\n",
       "      <td>0</td>\n",
       "      <td>16255.000</td>\n",
       "      <td>384.00</td>\n",
       "      <td>None</td>\n",
       "      <td>MBMA</td>\n",
       "      <td>12.0</td>\n",
       "      <td>18.0</td>\n",
       "    </tr>\n",
       "    <tr>\n",
       "      <th>9</th>\n",
       "      <td>31</td>\n",
       "      <td>BUMI.JK</td>\n",
       "      <td>Bumi Resources</td>\n",
       "      <td>Oil, Gas &amp; Consumable Fuels</td>\n",
       "      <td>Energy</td>\n",
       "      <td>PT Bumi Resources Tbk is an Indonesia-based ho...</td>\n",
       "      <td>11</td>\n",
       "      <td>-17</td>\n",
       "      <td>2307</td>\n",
       "      <td>None</td>\n",
       "      <td>...</td>\n",
       "      <td>1</td>\n",
       "      <td>1</td>\n",
       "      <td>2</td>\n",
       "      <td>0</td>\n",
       "      <td>16255.000</td>\n",
       "      <td>103.00</td>\n",
       "      <td>None</td>\n",
       "      <td>BUMI</td>\n",
       "      <td>12.0</td>\n",
       "      <td>18.0</td>\n",
       "    </tr>\n",
       "    <tr>\n",
       "      <th>10</th>\n",
       "      <td>37</td>\n",
       "      <td>BH_n.BK</td>\n",
       "      <td>Bumrungrad Hospital</td>\n",
       "      <td>Health Care Providers &amp; Services</td>\n",
       "      <td>Health Care</td>\n",
       "      <td>Bumrungrad Hospital Public Company Limited is ...</td>\n",
       "      <td>28</td>\n",
       "      <td>-17</td>\n",
       "      <td>4081</td>\n",
       "      <td>None</td>\n",
       "      <td>...</td>\n",
       "      <td>3</td>\n",
       "      <td>6</td>\n",
       "      <td>4</td>\n",
       "      <td>0</td>\n",
       "      <td>33.700</td>\n",
       "      <td>175.00</td>\n",
       "      <td>None</td>\n",
       "      <td>BH</td>\n",
       "      <td>12.0</td>\n",
       "      <td>18.0</td>\n",
       "    </tr>\n",
       "    <tr>\n",
       "      <th>11</th>\n",
       "      <td>38</td>\n",
       "      <td>AC.PS</td>\n",
       "      <td>Ayala</td>\n",
       "      <td>Industrial Conglomerates</td>\n",
       "      <td>Industrials</td>\n",
       "      <td>Ayala Corporation is a Philippines-based holdi...</td>\n",
       "      <td>28</td>\n",
       "      <td>-17</td>\n",
       "      <td>6413</td>\n",
       "      <td>None</td>\n",
       "      <td>...</td>\n",
       "      <td>8</td>\n",
       "      <td>7</td>\n",
       "      <td>3</td>\n",
       "      <td>0</td>\n",
       "      <td>57.728</td>\n",
       "      <td>561.50</td>\n",
       "      <td>None</td>\n",
       "      <td>AC</td>\n",
       "      <td>12.0</td>\n",
       "      <td>18.0</td>\n",
       "    </tr>\n",
       "  </tbody>\n",
       "</table>\n",
       "<p>12 rows × 30 columns</p>\n",
       "</div>"
      ],
      "text/plain": [
       "     N        RIC                         Name  \\\n",
       "0    4   KTC_n.BK               Krungthai Card   \n",
       "1   14   KKP_n.BK        Kiatnakin Phatra Bank   \n",
       "2   15    AFIN.KL                   Affin Bank   \n",
       "3    2    PGEO.JK  Pertamina Geothermal Energy   \n",
       "4    5  GPSC_n.BK         Global Power Synergy   \n",
       "5   16    SPEE.KL        99 Speed Mart Retail    \n",
       "6   17    FRAS.KL            Fraser and Neave    \n",
       "7   24    MIKA.JK          Mitra Keluarga Kyst   \n",
       "8   30    MBMA.JK    Merdeka Battery Materials   \n",
       "9   31    BUMI.JK               Bumi Resources   \n",
       "10  37    BH_n.BK          Bumrungrad Hospital   \n",
       "11  38      AC.PS                        Ayala   \n",
       "\n",
       "                                             Industry GICS       Sector  \\\n",
       "0                                    Consumer Finance        Financials   \n",
       "1                                               Banks        Financials   \n",
       "2                                               Banks        Financials   \n",
       "3   Independent Power and Renewable Electricity Pr...         Utilities   \n",
       "4   Independent Power and Renewable Electricity Pr...         Utilities   \n",
       "5              Consumer Staples Distribution & Retail  Consumer Staples   \n",
       "6                                           Beverages  Consumer Staples   \n",
       "7                    Health Care Providers & Services       Health Care   \n",
       "8                                     Metals & Mining         Materials   \n",
       "9                         Oil, Gas & Consumable Fuels            Energy   \n",
       "10                   Health Care Providers & Services       Health Care   \n",
       "11                           Industrial Conglomerates       Industrials   \n",
       "\n",
       "                                 Business Description  Long Score  \\\n",
       "0   Krungthai Card Public Company Limited is a Tha...          48   \n",
       "1   Kiatnakin Phatra Bank Public Company Limited i...          46   \n",
       "2   Affin Bank Berhad (the Bank) is the financial ...          46   \n",
       "3   PT Pertamina Geothermal Energy Tbk is a geothe...          14   \n",
       "4   Global Power Synergy Public Company Limited is...          18   \n",
       "5   99 Speed Mart Retail Holdings Berhad is a Mala...          28   \n",
       "6   Fraser & Neave Holdings Bhd. is a Malaysia-bas...          32   \n",
       "7   PT Mitra Keluarga Karyasehat Tbk is an Indones...          24   \n",
       "8   PT Merdeka Battery Materials Tbk owns assets i...          11   \n",
       "9   PT Bumi Resources Tbk is an Indonesia-based ho...          11   \n",
       "10  Bumrungrad Hospital Public Company Limited is ...          28   \n",
       "11  Ayala Corporation is a Philippines-based holdi...          28   \n",
       "\n",
       "    Short Score  Mkt Cap mn USD Current Holding (Shares)  ... Value  \\\n",
       "0            -3            3877                     None  ...     4   \n",
       "1            -2            1267                     None  ...     7   \n",
       "2            -2            1478                     None  ...     7   \n",
       "3           -20            2258                     None  ...     1   \n",
       "4           -19            2192                     None  ...     5   \n",
       "5           -19            4153                     None  ...     2   \n",
       "6           -19            2201                     None  ...     5   \n",
       "7           -18            2147                     None  ...     2   \n",
       "8           -17            2602                     None  ...     1   \n",
       "9           -17            2307                     None  ...     1   \n",
       "10          -17            4081                     None  ...     3   \n",
       "11          -17            6413                     None  ...     8   \n",
       "\n",
       "    Volatility Short Term Investment         fx Stock      Price  Blank  \\\n",
       "0           10         10          0     33.700            51.50   None   \n",
       "1            8         10          0     33.700            51.25   None   \n",
       "2           10         10          0      4.432             2.76   None   \n",
       "3            3          1          0  16255.000           885.00   None   \n",
       "4            4          2          0     33.700            27.50   None   \n",
       "5            7          3         -5      4.432             2.14   None   \n",
       "6            9          1          0      4.432            26.22   None   \n",
       "7            4          1          0  16255.000          2490.00   None   \n",
       "8            2          4          0  16255.000           384.00   None   \n",
       "9            1          2          0  16255.000           103.00   None   \n",
       "10           6          4          0     33.700           175.00   None   \n",
       "11           7          3          0     57.728           561.50   None   \n",
       "\n",
       "     Ticker  Long Score FS  Short Score FS  \n",
       "0       KTC           18.0            12.0  \n",
       "1       KKP           18.0            12.0  \n",
       "2     AFFIN           18.0            12.0  \n",
       "3      PGEO           12.0            18.0  \n",
       "4      GPSC           12.0            18.0  \n",
       "5   99SMART           12.0            18.0  \n",
       "6       F&N           12.0            18.0  \n",
       "7      MIKA           12.0            18.0  \n",
       "8      MBMA           12.0            18.0  \n",
       "9      BUMI           12.0            18.0  \n",
       "10       BH           12.0            18.0  \n",
       "11       AC           12.0            18.0  \n",
       "\n",
       "[12 rows x 30 columns]"
      ]
     },
     "execution_count": 16,
     "metadata": {},
     "output_type": "execute_result"
    }
   ],
   "source": [
    "open_trades.head(12)"
   ]
  },
  {
   "cell_type": "code",
   "execution_count": 17,
   "id": "741419dc",
   "metadata": {},
   "outputs": [
    {
     "data": {
      "text/html": [
       "<div>\n",
       "<style scoped>\n",
       "    .dataframe tbody tr th:only-of-type {\n",
       "        vertical-align: middle;\n",
       "    }\n",
       "\n",
       "    .dataframe tbody tr th {\n",
       "        vertical-align: top;\n",
       "    }\n",
       "\n",
       "    .dataframe thead th {\n",
       "        text-align: right;\n",
       "    }\n",
       "</style>\n",
       "<table border=\"1\" class=\"dataframe\">\n",
       "  <thead>\n",
       "    <tr style=\"text-align: right;\">\n",
       "      <th></th>\n",
       "      <th>N</th>\n",
       "      <th>RIC</th>\n",
       "      <th>Name</th>\n",
       "      <th>Industry</th>\n",
       "      <th>GICS       Sector</th>\n",
       "      <th>Business Description</th>\n",
       "      <th>Long Score</th>\n",
       "      <th>Short Score</th>\n",
       "      <th>Mkt Cap mn USD</th>\n",
       "      <th>Current Holding (Shares)</th>\n",
       "      <th>...</th>\n",
       "      <th>Value</th>\n",
       "      <th>Volatility</th>\n",
       "      <th>Short Term</th>\n",
       "      <th>Investment</th>\n",
       "      <th>fx</th>\n",
       "      <th>Stock      Price</th>\n",
       "      <th>Blank</th>\n",
       "      <th>Ticker</th>\n",
       "      <th>Long Score FS</th>\n",
       "      <th>Short Score FS</th>\n",
       "    </tr>\n",
       "  </thead>\n",
       "  <tbody>\n",
       "    <tr>\n",
       "      <th>2</th>\n",
       "      <td>111</td>\n",
       "      <td>RATCH_n.BK</td>\n",
       "      <td>Ratch  Public  Limited</td>\n",
       "      <td>Independent Power and Renewable Electricity Pr...</td>\n",
       "      <td>Utilities</td>\n",
       "      <td>RATCH Group Public Company Limited is an energ...</td>\n",
       "      <td>32</td>\n",
       "      <td>-16.0</td>\n",
       "      <td>1723</td>\n",
       "      <td>19200</td>\n",
       "      <td>...</td>\n",
       "      <td>8.0</td>\n",
       "      <td>9.0</td>\n",
       "      <td>2.0</td>\n",
       "      <td>0.0</td>\n",
       "      <td>33.7000</td>\n",
       "      <td>27.750</td>\n",
       "      <td>None</td>\n",
       "      <td>RATCH</td>\n",
       "      <td>18.0</td>\n",
       "      <td>12.0</td>\n",
       "    </tr>\n",
       "    <tr>\n",
       "      <th>3</th>\n",
       "      <td>112</td>\n",
       "      <td>TTW_n.BK</td>\n",
       "      <td>Thai Tap Water Supply</td>\n",
       "      <td>Water Utilities</td>\n",
       "      <td>Utilities</td>\n",
       "      <td>TTW Public Company Limited is a Thailand-based...</td>\n",
       "      <td>0</td>\n",
       "      <td>NaN</td>\n",
       "      <td>1041</td>\n",
       "      <td>71000</td>\n",
       "      <td>...</td>\n",
       "      <td>NaN</td>\n",
       "      <td>NaN</td>\n",
       "      <td>NaN</td>\n",
       "      <td>NaN</td>\n",
       "      <td>33.7000</td>\n",
       "      <td>8.950</td>\n",
       "      <td>None</td>\n",
       "      <td>TTW</td>\n",
       "      <td>18.0</td>\n",
       "      <td>12.0</td>\n",
       "    </tr>\n",
       "    <tr>\n",
       "      <th>4</th>\n",
       "      <td>102</td>\n",
       "      <td>MRDI.KL</td>\n",
       "      <td>MR DIY  M Berhad</td>\n",
       "      <td>Specialty Retail</td>\n",
       "      <td>Consumer Discretionary</td>\n",
       "      <td>MR. D.I.Y. Group (M) Berhad is a Malaysia-base...</td>\n",
       "      <td>30</td>\n",
       "      <td>-13.0</td>\n",
       "      <td>3361</td>\n",
       "      <td>-30000</td>\n",
       "      <td>...</td>\n",
       "      <td>1.0</td>\n",
       "      <td>5.0</td>\n",
       "      <td>4.0</td>\n",
       "      <td>0.0</td>\n",
       "      <td>4.4320</td>\n",
       "      <td>1.540</td>\n",
       "      <td>None</td>\n",
       "      <td>MRDIY</td>\n",
       "      <td>12.0</td>\n",
       "      <td>18.0</td>\n",
       "    </tr>\n",
       "    <tr>\n",
       "      <th>5</th>\n",
       "      <td>12</td>\n",
       "      <td>ACPP.WA</td>\n",
       "      <td>Asseco Poland</td>\n",
       "      <td>RE-SIZE to TARGET</td>\n",
       "      <td>None</td>\n",
       "      <td>None</td>\n",
       "      <td>31</td>\n",
       "      <td>-8.0</td>\n",
       "      <td>2729</td>\n",
       "      <td>2300</td>\n",
       "      <td>...</td>\n",
       "      <td>4.0</td>\n",
       "      <td>5.0</td>\n",
       "      <td>5.0</td>\n",
       "      <td>0.0</td>\n",
       "      <td>3.9646</td>\n",
       "      <td>129.200</td>\n",
       "      <td>None</td>\n",
       "      <td>ACP</td>\n",
       "      <td>18.0</td>\n",
       "      <td>12.0</td>\n",
       "    </tr>\n",
       "    <tr>\n",
       "      <th>6</th>\n",
       "      <td>14</td>\n",
       "      <td>OPL.WA</td>\n",
       "      <td>Orange Polska</td>\n",
       "      <td>Diversified Telecommunication Services</td>\n",
       "      <td>Communication Services</td>\n",
       "      <td>Orange Polska SA is a Poland-based company act...</td>\n",
       "      <td>31</td>\n",
       "      <td>-12.0</td>\n",
       "      <td>2772</td>\n",
       "      <td>20000</td>\n",
       "      <td>...</td>\n",
       "      <td>10.0</td>\n",
       "      <td>7.0</td>\n",
       "      <td>7.0</td>\n",
       "      <td>0.0</td>\n",
       "      <td>3.9646</td>\n",
       "      <td>8.418</td>\n",
       "      <td>None</td>\n",
       "      <td>OPL</td>\n",
       "      <td>18.0</td>\n",
       "      <td>12.0</td>\n",
       "    </tr>\n",
       "  </tbody>\n",
       "</table>\n",
       "<p>5 rows × 30 columns</p>\n",
       "</div>"
      ],
      "text/plain": [
       "     N         RIC                    Name  \\\n",
       "2  111  RATCH_n.BK  Ratch  Public  Limited   \n",
       "3  112    TTW_n.BK   Thai Tap Water Supply   \n",
       "4  102     MRDI.KL        MR DIY  M Berhad   \n",
       "5   12     ACPP.WA           Asseco Poland   \n",
       "6   14      OPL.WA           Orange Polska   \n",
       "\n",
       "                                            Industry       GICS       Sector  \\\n",
       "2  Independent Power and Renewable Electricity Pr...               Utilities   \n",
       "3                                    Water Utilities               Utilities   \n",
       "4                                   Specialty Retail  Consumer Discretionary   \n",
       "5                                  RE-SIZE to TARGET                    None   \n",
       "6             Diversified Telecommunication Services  Communication Services   \n",
       "\n",
       "                                Business Description  Long Score  Short Score  \\\n",
       "2  RATCH Group Public Company Limited is an energ...          32        -16.0   \n",
       "3  TTW Public Company Limited is a Thailand-based...           0          NaN   \n",
       "4  MR. D.I.Y. Group (M) Berhad is a Malaysia-base...          30        -13.0   \n",
       "5                                               None          31         -8.0   \n",
       "6  Orange Polska SA is a Poland-based company act...          31        -12.0   \n",
       "\n",
       "   Mkt Cap mn USD  Current Holding (Shares)  ...  Value  Volatility  \\\n",
       "2            1723                     19200  ...    8.0         9.0   \n",
       "3            1041                     71000  ...    NaN         NaN   \n",
       "4            3361                    -30000  ...    1.0         5.0   \n",
       "5            2729                      2300  ...    4.0         5.0   \n",
       "6            2772                     20000  ...   10.0         7.0   \n",
       "\n",
       "   Short Term Investment       fx Stock      Price  Blank  Ticker  \\\n",
       "2         2.0        0.0  33.7000           27.750   None   RATCH   \n",
       "3         NaN        NaN  33.7000            8.950   None     TTW   \n",
       "4         4.0        0.0   4.4320            1.540   None   MRDIY   \n",
       "5         5.0        0.0   3.9646          129.200   None     ACP   \n",
       "6         7.0        0.0   3.9646            8.418   None     OPL   \n",
       "\n",
       "   Long Score FS  Short Score FS  \n",
       "2           18.0            12.0  \n",
       "3           18.0            12.0  \n",
       "4           12.0            18.0  \n",
       "5           18.0            12.0  \n",
       "6           18.0            12.0  \n",
       "\n",
       "[5 rows x 30 columns]"
      ]
     },
     "execution_count": 17,
     "metadata": {},
     "output_type": "execute_result"
    }
   ],
   "source": [
    "close_trades.tail()"
   ]
  },
  {
   "cell_type": "code",
   "execution_count": null,
   "id": "b84630a7",
   "metadata": {},
   "outputs": [],
   "source": []
  },
  {
   "cell_type": "code",
   "execution_count": null,
   "id": "fd5cb75c",
   "metadata": {},
   "outputs": [],
   "source": []
  },
  {
   "cell_type": "markdown",
   "id": "6bb12d6f",
   "metadata": {},
   "source": [
    "Position Re-sizing Identified: "
   ]
  },
  {
   "cell_type": "code",
   "execution_count": 18,
   "id": "d9e7957e",
   "metadata": {},
   "outputs": [],
   "source": [
    "##\n",
    "\n",
    "import pandas as pd\n",
    "from openpyxl import load_workbook\n",
    "\n",
    "# Load the Excel file\n",
    "file_path = latest_file\n",
    "wb = load_workbook(file_path, data_only=True)\n",
    "\n",
    "# Extract relevant sheets (2nd and 3rd sheet → index 1:3)\n",
    "sheets_to_process = wb.sheetnames[sheet_start : sheet_end]\n",
    "\n",
    "# Store rows where \"Industry\" = \"RE-SIZE to TARGET\"\n",
    "resize_to_target_data = []\n",
    "\n",
    "for sheet_name in sheets_to_process:\n",
    "    ws = wb[sheet_name]\n",
    "\n",
    "    # Extract header (first row)\n",
    "    header = [cell.value for cell in next(ws.iter_rows(min_row=1, max_row=1))]\n",
    "\n",
    "    # Find the index of \"Industry\" column\n",
    "    try:\n",
    "        industry_idx = header.index(\"Industry\")\n",
    "    except ValueError:\n",
    "        print(f\"⚠️ 'Industry' column missing in {sheet_name}\")\n",
    "        continue  # Skip this sheet if column is missing\n",
    "\n",
    "    for row in ws.iter_rows(min_row=2, values_only=False):  \n",
    "        industry_value = row[industry_idx].value if row[industry_idx] else None\n",
    "\n",
    "        # ✅ Select rows where Industry = \"RE-SIZE to TARGET\"\n",
    "        if industry_value == \"RE-SIZE to TARGET\":\n",
    "            resize_to_target_data.append([c.value for c in row])  # Store row values\n",
    "\n",
    "# Convert to DataFrame\n",
    "resize_to_target = pd.DataFrame(resize_to_target_data, columns=header)\n"
   ]
  },
  {
   "cell_type": "code",
   "execution_count": 19,
   "id": "ce675609",
   "metadata": {},
   "outputs": [
    {
     "data": {
      "text/plain": [
       "(2, 28)"
      ]
     },
     "execution_count": 19,
     "metadata": {},
     "output_type": "execute_result"
    }
   ],
   "source": [
    "resize_to_target.shape"
   ]
  },
  {
   "cell_type": "code",
   "execution_count": 20,
   "id": "6307b584",
   "metadata": {},
   "outputs": [
    {
     "data": {
      "text/html": [
       "<div>\n",
       "<style scoped>\n",
       "    .dataframe tbody tr th:only-of-type {\n",
       "        vertical-align: middle;\n",
       "    }\n",
       "\n",
       "    .dataframe tbody tr th {\n",
       "        vertical-align: top;\n",
       "    }\n",
       "\n",
       "    .dataframe thead th {\n",
       "        text-align: right;\n",
       "    }\n",
       "</style>\n",
       "<table border=\"1\" class=\"dataframe\">\n",
       "  <thead>\n",
       "    <tr style=\"text-align: right;\">\n",
       "      <th></th>\n",
       "      <th>N</th>\n",
       "      <th>RIC</th>\n",
       "      <th>Name</th>\n",
       "      <th>Industry</th>\n",
       "      <th>GICS       Sector</th>\n",
       "      <th>Business Description</th>\n",
       "      <th>Long Score</th>\n",
       "      <th>Short Score</th>\n",
       "      <th>Mkt Cap mn USD</th>\n",
       "      <th>Current Holding (Shares)</th>\n",
       "      <th>...</th>\n",
       "      <th>Momentum</th>\n",
       "      <th>Cashflow</th>\n",
       "      <th>Value</th>\n",
       "      <th>Volatility</th>\n",
       "      <th>Short Term</th>\n",
       "      <th>Investment</th>\n",
       "      <th>fx</th>\n",
       "      <th>Stock      Price</th>\n",
       "      <th>Blank</th>\n",
       "      <th>Ticker</th>\n",
       "    </tr>\n",
       "  </thead>\n",
       "  <tbody>\n",
       "    <tr>\n",
       "      <th>0</th>\n",
       "      <td>2</td>\n",
       "      <td>ENAE.WA</td>\n",
       "      <td>Enea</td>\n",
       "      <td>RE-SIZE to TARGET</td>\n",
       "      <td>None</td>\n",
       "      <td>None</td>\n",
       "      <td>38</td>\n",
       "      <td>-13</td>\n",
       "      <td>1874</td>\n",
       "      <td>17000</td>\n",
       "      <td>...</td>\n",
       "      <td>6</td>\n",
       "      <td>10</td>\n",
       "      <td>10</td>\n",
       "      <td>5</td>\n",
       "      <td>3</td>\n",
       "      <td>0</td>\n",
       "      <td>3.9646</td>\n",
       "      <td>14.2</td>\n",
       "      <td>None</td>\n",
       "      <td>ENA</td>\n",
       "    </tr>\n",
       "    <tr>\n",
       "      <th>1</th>\n",
       "      <td>12</td>\n",
       "      <td>ACPP.WA</td>\n",
       "      <td>Asseco Poland</td>\n",
       "      <td>RE-SIZE to TARGET</td>\n",
       "      <td>None</td>\n",
       "      <td>None</td>\n",
       "      <td>31</td>\n",
       "      <td>-8</td>\n",
       "      <td>2729</td>\n",
       "      <td>2300</td>\n",
       "      <td>...</td>\n",
       "      <td>9</td>\n",
       "      <td>7</td>\n",
       "      <td>4</td>\n",
       "      <td>5</td>\n",
       "      <td>5</td>\n",
       "      <td>0</td>\n",
       "      <td>3.9646</td>\n",
       "      <td>129.2</td>\n",
       "      <td>None</td>\n",
       "      <td>ACP</td>\n",
       "    </tr>\n",
       "  </tbody>\n",
       "</table>\n",
       "<p>2 rows × 28 columns</p>\n",
       "</div>"
      ],
      "text/plain": [
       "    N      RIC           Name           Industry GICS       Sector  \\\n",
       "0   2  ENAE.WA           Enea  RE-SIZE to TARGET              None   \n",
       "1  12  ACPP.WA  Asseco Poland  RE-SIZE to TARGET              None   \n",
       "\n",
       "  Business Description  Long Score  Short Score  Mkt Cap mn USD  \\\n",
       "0                 None          38          -13            1874   \n",
       "1                 None          31           -8            2729   \n",
       "\n",
       "   Current Holding (Shares)  ...  Momentum  Cashflow  Value Volatility  \\\n",
       "0                     17000  ...         6        10     10          5   \n",
       "1                      2300  ...         9         7      4          5   \n",
       "\n",
       "   Short Term Investment      fx  Stock      Price  Blank  Ticker  \n",
       "0           3          0  3.9646              14.2   None     ENA  \n",
       "1           5          0  3.9646             129.2   None     ACP  \n",
       "\n",
       "[2 rows x 28 columns]"
      ]
     },
     "execution_count": 20,
     "metadata": {},
     "output_type": "execute_result"
    }
   ],
   "source": [
    "resize_to_target.head()"
   ]
  },
  {
   "cell_type": "code",
   "execution_count": null,
   "id": "d800885a",
   "metadata": {},
   "outputs": [],
   "source": []
  },
  {
   "cell_type": "code",
   "execution_count": null,
   "id": "d344098f",
   "metadata": {},
   "outputs": [],
   "source": []
  },
  {
   "cell_type": "markdown",
   "id": "8d56e7d7",
   "metadata": {},
   "source": [
    "Back-up stocks identified:"
   ]
  },
  {
   "cell_type": "code",
   "execution_count": 21,
   "id": "6d61b460",
   "metadata": {},
   "outputs": [],
   "source": [
    "##\n",
    "\n",
    "import pandas as pd\n",
    "from openpyxl import load_workbook\n",
    "\n",
    "# Load the Excel file\n",
    "file_path = latest_file\n",
    "wb = load_workbook(file_path, data_only=True)\n",
    "\n",
    "# Extract relevant sheets (2nd and 3rd sheet → index 1:3)\n",
    "sheets_to_process = wb.sheetnames[sheet_start : sheet_end]\n",
    "\n",
    "# Store rows separately for Theme Index 1\n",
    "backup_data = []\n",
    "\n",
    "for sheet_name in sheets_to_process:\n",
    "    ws = wb[sheet_name]\n",
    "\n",
    "    # Extract header (first row)\n",
    "    header = [cell.value for cell in next(ws.iter_rows(min_row=1, max_row=1))]\n",
    "\n",
    "    for row in ws.iter_rows(min_row=2, values_only=False):  \n",
    "        cell = row[1]  # Second column (index 1)\n",
    "\n",
    "        # Default values\n",
    "        fill_type = getattr(cell.fill.fgColor, \"type\", \"None\")\n",
    "        theme_color = getattr(cell.fill.fgColor, \"theme\", None)\n",
    "\n",
    "        # ✅ Extract rows for Theme Color Index 1\n",
    "        if fill_type == \"theme\" and theme_color == 8:\n",
    "            backup_data.append([c.value for c in row])  # Store row values\n",
    "\n",
    "# Convert to DataFrame\n",
    "backup = pd.DataFrame(backup_data, columns=header)\n"
   ]
  },
  {
   "cell_type": "code",
   "execution_count": 22,
   "id": "36f05f3f",
   "metadata": {},
   "outputs": [
    {
     "data": {
      "text/plain": [
       "(1, 28)"
      ]
     },
     "execution_count": 22,
     "metadata": {},
     "output_type": "execute_result"
    }
   ],
   "source": [
    "backup.shape"
   ]
  },
  {
   "cell_type": "code",
   "execution_count": 23,
   "id": "861b4860",
   "metadata": {},
   "outputs": [
    {
     "data": {
      "text/html": [
       "<div>\n",
       "<style scoped>\n",
       "    .dataframe tbody tr th:only-of-type {\n",
       "        vertical-align: middle;\n",
       "    }\n",
       "\n",
       "    .dataframe tbody tr th {\n",
       "        vertical-align: top;\n",
       "    }\n",
       "\n",
       "    .dataframe thead th {\n",
       "        text-align: right;\n",
       "    }\n",
       "</style>\n",
       "<table border=\"1\" class=\"dataframe\">\n",
       "  <thead>\n",
       "    <tr style=\"text-align: right;\">\n",
       "      <th></th>\n",
       "      <th>N</th>\n",
       "      <th>RIC</th>\n",
       "      <th>Name</th>\n",
       "      <th>Industry</th>\n",
       "      <th>GICS       Sector</th>\n",
       "      <th>Business Description</th>\n",
       "      <th>Long Score</th>\n",
       "      <th>Short Score</th>\n",
       "      <th>Mkt Cap mn USD</th>\n",
       "      <th>Current Holding (Shares)</th>\n",
       "      <th>...</th>\n",
       "      <th>Momentum</th>\n",
       "      <th>Cashflow</th>\n",
       "      <th>Value</th>\n",
       "      <th>Volatility</th>\n",
       "      <th>Short Term</th>\n",
       "      <th>Investment</th>\n",
       "      <th>fx</th>\n",
       "      <th>Stock      Price</th>\n",
       "      <th>Blank</th>\n",
       "      <th>Ticker</th>\n",
       "    </tr>\n",
       "  </thead>\n",
       "  <tbody>\n",
       "    <tr>\n",
       "      <th>0</th>\n",
       "      <td>41</td>\n",
       "      <td>GTCAP.PS</td>\n",
       "      <td>GT Capital</td>\n",
       "      <td>Industrial Conglomerates</td>\n",
       "      <td>Industrials</td>\n",
       "      <td>GT Capital Holdings, Inc. is a Philippines-bas...</td>\n",
       "      <td>30</td>\n",
       "      <td>-17</td>\n",
       "      <td>1953</td>\n",
       "      <td>None</td>\n",
       "      <td>...</td>\n",
       "      <td>2</td>\n",
       "      <td>4</td>\n",
       "      <td>10</td>\n",
       "      <td>6</td>\n",
       "      <td>3</td>\n",
       "      <td>0</td>\n",
       "      <td>57.728</td>\n",
       "      <td>517</td>\n",
       "      <td>None</td>\n",
       "      <td>GTCAP</td>\n",
       "    </tr>\n",
       "  </tbody>\n",
       "</table>\n",
       "<p>1 rows × 28 columns</p>\n",
       "</div>"
      ],
      "text/plain": [
       "    N       RIC         Name                  Industry GICS       Sector  \\\n",
       "0  41  GTCAP.PS  GT Capital   Industrial Conglomerates       Industrials   \n",
       "\n",
       "                                Business Description  Long Score  Short Score  \\\n",
       "0  GT Capital Holdings, Inc. is a Philippines-bas...          30          -17   \n",
       "\n",
       "   Mkt Cap mn USD Current Holding (Shares)  ... Momentum  Cashflow Value  \\\n",
       "0            1953                     None  ...        2         4    10   \n",
       "\n",
       "  Volatility  Short Term Investment      fx  Stock      Price  Blank  Ticker  \n",
       "0          6           3          0  57.728               517   None   GTCAP  \n",
       "\n",
       "[1 rows x 28 columns]"
      ]
     },
     "execution_count": 23,
     "metadata": {},
     "output_type": "execute_result"
    }
   ],
   "source": [
    "backup.head()"
   ]
  },
  {
   "cell_type": "code",
   "execution_count": null,
   "id": "20a52343",
   "metadata": {},
   "outputs": [],
   "source": []
  },
  {
   "cell_type": "code",
   "execution_count": null,
   "id": "aa199047",
   "metadata": {},
   "outputs": [],
   "source": []
  },
  {
   "cell_type": "markdown",
   "id": "5b7fed0e",
   "metadata": {},
   "source": [
    "New blacklisted stocks identified:"
   ]
  },
  {
   "cell_type": "code",
   "execution_count": 24,
   "id": "f941d156",
   "metadata": {},
   "outputs": [],
   "source": [
    "##\n",
    "\n",
    "\n",
    "import pandas as pd\n",
    "from openpyxl import load_workbook\n",
    "\n",
    "# Load the Excel file\n",
    "file_path = latest_file\n",
    "wb = load_workbook(file_path, data_only=True)\n",
    "\n",
    "# Extract relevant sheets (2nd and 3rd sheet → index 1:3)\n",
    "sheets_to_process = wb.sheetnames[sheet_start : sheet_end]\n",
    "\n",
    "# Store rows separately for Theme Index 1\n",
    "blacklist_data = []\n",
    "\n",
    "for sheet_name in sheets_to_process:\n",
    "    ws = wb[sheet_name]\n",
    "\n",
    "    # Extract header (first row)\n",
    "    header = [cell.value for cell in next(ws.iter_rows(min_row=1, max_row=1))]\n",
    "\n",
    "    for row in ws.iter_rows(min_row=2, values_only=False):  \n",
    "        cell = row[1]  # Second column (index 1)\n",
    "\n",
    "        # Default values\n",
    "        fill_type = getattr(cell.fill.fgColor, \"type\", \"None\")\n",
    "        theme_color = getattr(cell.fill.fgColor, \"theme\", None)\n",
    "\n",
    "        # ✅ Extract rows for Theme Color Index 1\n",
    "        if fill_type == \"theme\" and theme_color == 1:\n",
    "            blacklist_data.append([c.value for c in row])  # Store row values\n",
    "\n",
    "# Convert to DataFrame\n",
    "blacklist = pd.DataFrame(blacklist_data, columns=header)\n"
   ]
  },
  {
   "cell_type": "code",
   "execution_count": 25,
   "id": "656deddb",
   "metadata": {},
   "outputs": [
    {
     "data": {
      "text/plain": [
       "(1, 28)"
      ]
     },
     "execution_count": 25,
     "metadata": {},
     "output_type": "execute_result"
    }
   ],
   "source": [
    "blacklist.shape"
   ]
  },
  {
   "cell_type": "code",
   "execution_count": 26,
   "id": "07ebc54e",
   "metadata": {},
   "outputs": [
    {
     "data": {
      "text/html": [
       "<div>\n",
       "<style scoped>\n",
       "    .dataframe tbody tr th:only-of-type {\n",
       "        vertical-align: middle;\n",
       "    }\n",
       "\n",
       "    .dataframe tbody tr th {\n",
       "        vertical-align: top;\n",
       "    }\n",
       "\n",
       "    .dataframe thead th {\n",
       "        text-align: right;\n",
       "    }\n",
       "</style>\n",
       "<table border=\"1\" class=\"dataframe\">\n",
       "  <thead>\n",
       "    <tr style=\"text-align: right;\">\n",
       "      <th></th>\n",
       "      <th>N</th>\n",
       "      <th>RIC</th>\n",
       "      <th>Name</th>\n",
       "      <th>Industry</th>\n",
       "      <th>GICS       Sector</th>\n",
       "      <th>Business Description</th>\n",
       "      <th>Long Score</th>\n",
       "      <th>Short Score</th>\n",
       "      <th>Mkt Cap mn USD</th>\n",
       "      <th>Current Holding (Shares)</th>\n",
       "      <th>...</th>\n",
       "      <th>Momentum</th>\n",
       "      <th>Cashflow</th>\n",
       "      <th>Value</th>\n",
       "      <th>Volatility</th>\n",
       "      <th>Short Term</th>\n",
       "      <th>Investment</th>\n",
       "      <th>fx</th>\n",
       "      <th>Stock      Price</th>\n",
       "      <th>Blank</th>\n",
       "      <th>Ticker</th>\n",
       "    </tr>\n",
       "  </thead>\n",
       "  <tbody>\n",
       "    <tr>\n",
       "      <th>0</th>\n",
       "      <td>6</td>\n",
       "      <td>SOPS.KL</td>\n",
       "      <td>Sarawak Oil Palms</td>\n",
       "      <td>Food Products</td>\n",
       "      <td>Consumer Staples</td>\n",
       "      <td>Sarawak Oil Palms Berhad is a Malaysia-based i...</td>\n",
       "      <td>48</td>\n",
       "      <td>-5</td>\n",
       "      <td>632</td>\n",
       "      <td>None</td>\n",
       "      <td>...</td>\n",
       "      <td>8</td>\n",
       "      <td>8</td>\n",
       "      <td>9</td>\n",
       "      <td>6</td>\n",
       "      <td>9</td>\n",
       "      <td>0</td>\n",
       "      <td>4.432</td>\n",
       "      <td>3.14</td>\n",
       "      <td>None</td>\n",
       "      <td>SOP</td>\n",
       "    </tr>\n",
       "  </tbody>\n",
       "</table>\n",
       "<p>1 rows × 28 columns</p>\n",
       "</div>"
      ],
      "text/plain": [
       "   N      RIC               Name       Industry GICS       Sector  \\\n",
       "0  6  SOPS.KL  Sarawak Oil Palms  Food Products  Consumer Staples   \n",
       "\n",
       "                                Business Description  Long Score  Short Score  \\\n",
       "0  Sarawak Oil Palms Berhad is a Malaysia-based i...          48           -5   \n",
       "\n",
       "   Mkt Cap mn USD Current Holding (Shares)  ... Momentum  Cashflow Value  \\\n",
       "0             632                     None  ...        8         8     9   \n",
       "\n",
       "  Volatility  Short Term Investment     fx  Stock      Price  Blank  Ticker  \n",
       "0          6           9          0  4.432              3.14   None     SOP  \n",
       "\n",
       "[1 rows x 28 columns]"
      ]
     },
     "execution_count": 26,
     "metadata": {},
     "output_type": "execute_result"
    }
   ],
   "source": [
    "blacklist.head()"
   ]
  },
  {
   "cell_type": "code",
   "execution_count": null,
   "id": "aa5ba8d4",
   "metadata": {},
   "outputs": [],
   "source": []
  },
  {
   "cell_type": "code",
   "execution_count": null,
   "id": "e0a2b560",
   "metadata": {},
   "outputs": [],
   "source": []
  },
  {
   "cell_type": "markdown",
   "id": "3153c8a0",
   "metadata": {},
   "source": [
    "Filtering / Processing begins:"
   ]
  },
  {
   "cell_type": "code",
   "execution_count": null,
   "id": "8d4c16a3",
   "metadata": {},
   "outputs": [],
   "source": []
  },
  {
   "cell_type": "code",
   "execution_count": 27,
   "id": "6cc98eb9",
   "metadata": {},
   "outputs": [],
   "source": [
    "#Blacklisted stocks should only show up in the blacklist and not in any other potential trade list:\n",
    "\n",
    "\n",
    "# Get the unique RICs from blacklist\n",
    "blacklist_ric = set(blacklist[\"RIC\"].dropna())\n",
    "\n",
    "# Remove rows from open_trades, close_trades, resize_to_target if RIC is in blacklist\n",
    "open_trades = open_trades[~open_trades[\"RIC\"].isin(blacklist_ric)]\n",
    "close_trades = close_trades[~close_trades[\"RIC\"].isin(blacklist_ric)]\n",
    "resize_to_target = resize_to_target[~resize_to_target[\"RIC\"].isin(blacklist_ric)]\n"
   ]
  },
  {
   "cell_type": "code",
   "execution_count": null,
   "id": "e012faf7",
   "metadata": {},
   "outputs": [],
   "source": []
  },
  {
   "cell_type": "code",
   "execution_count": 28,
   "id": "742910bc",
   "metadata": {},
   "outputs": [],
   "source": [
    "#Re-sizing orders should be dealt with separately:\n",
    "\n",
    "\n",
    "# Get the unique RICs from resize_to_target\n",
    "resize_to_target_ric = set(resize_to_target[\"RIC\"].dropna())\n",
    "\n",
    "# Remove rows from open_trades and close_trades if RIC is in resize_to_target\n",
    "open_trades = open_trades[~open_trades[\"RIC\"].isin(resize_to_target_ric)]\n",
    "close_trades = close_trades[~close_trades[\"RIC\"].isin(resize_to_target_ric)]\n"
   ]
  },
  {
   "cell_type": "code",
   "execution_count": null,
   "id": "8cb7434e",
   "metadata": {},
   "outputs": [],
   "source": []
  },
  {
   "cell_type": "code",
   "execution_count": 29,
   "id": "83995766",
   "metadata": {},
   "outputs": [],
   "source": [
    "#Potentially Inaccurate Markings Check"
   ]
  },
  {
   "cell_type": "code",
   "execution_count": 30,
   "id": "e1cfc88d",
   "metadata": {},
   "outputs": [
    {
     "data": {
      "text/html": [
       "<div>\n",
       "<style scoped>\n",
       "    .dataframe tbody tr th:only-of-type {\n",
       "        vertical-align: middle;\n",
       "    }\n",
       "\n",
       "    .dataframe tbody tr th {\n",
       "        vertical-align: top;\n",
       "    }\n",
       "\n",
       "    .dataframe thead th {\n",
       "        text-align: right;\n",
       "    }\n",
       "</style>\n",
       "<table border=\"1\" class=\"dataframe\">\n",
       "  <thead>\n",
       "    <tr style=\"text-align: right;\">\n",
       "      <th></th>\n",
       "      <th>N</th>\n",
       "      <th>RIC</th>\n",
       "      <th>Name</th>\n",
       "      <th>Industry</th>\n",
       "      <th>GICS       Sector</th>\n",
       "      <th>Business Description</th>\n",
       "      <th>Long Score</th>\n",
       "      <th>Short Score</th>\n",
       "      <th>Mkt Cap mn USD</th>\n",
       "      <th>Current Holding (Shares)</th>\n",
       "      <th>...</th>\n",
       "      <th>Value</th>\n",
       "      <th>Volatility</th>\n",
       "      <th>Short Term</th>\n",
       "      <th>Investment</th>\n",
       "      <th>fx</th>\n",
       "      <th>Stock      Price</th>\n",
       "      <th>Blank</th>\n",
       "      <th>Ticker</th>\n",
       "      <th>Long Score FS</th>\n",
       "      <th>Short Score FS</th>\n",
       "    </tr>\n",
       "  </thead>\n",
       "  <tbody>\n",
       "  </tbody>\n",
       "</table>\n",
       "<p>0 rows × 30 columns</p>\n",
       "</div>"
      ],
      "text/plain": [
       "Empty DataFrame\n",
       "Columns: [N, RIC, Name, Industry, GICS       Sector, Business Description, Long Score, Short Score, Mkt Cap mn USD, Current Holding (Shares), Current Holding (USD), Shares Needed, ReSize, Market, Days To Dividend, Dividend Date, Dividend Yield, Rate, Momentum, Cashflow, Value, Volatility, Short Term, Investment, fx, Stock      Price, Blank, Ticker, Long Score FS, Short Score FS]\n",
       "Index: []\n",
       "\n",
       "[0 rows x 30 columns]"
      ]
     },
     "execution_count": 30,
     "metadata": {},
     "output_type": "execute_result"
    }
   ],
   "source": [
    "# Find rows where 'Current Holding (USD)' is NOT None\n",
    "invalid_opens = open_trades[open_trades['Current Holding (USD)'].notna()]\n",
    "\n",
    "# Display the rows\n",
    "invalid_opens"
   ]
  },
  {
   "cell_type": "code",
   "execution_count": 31,
   "id": "ec6fa52a",
   "metadata": {},
   "outputs": [
    {
     "data": {
      "text/html": [
       "<div>\n",
       "<style scoped>\n",
       "    .dataframe tbody tr th:only-of-type {\n",
       "        vertical-align: middle;\n",
       "    }\n",
       "\n",
       "    .dataframe tbody tr th {\n",
       "        vertical-align: top;\n",
       "    }\n",
       "\n",
       "    .dataframe thead th {\n",
       "        text-align: right;\n",
       "    }\n",
       "</style>\n",
       "<table border=\"1\" class=\"dataframe\">\n",
       "  <thead>\n",
       "    <tr style=\"text-align: right;\">\n",
       "      <th></th>\n",
       "      <th>N</th>\n",
       "      <th>RIC</th>\n",
       "      <th>Name</th>\n",
       "      <th>Industry</th>\n",
       "      <th>GICS       Sector</th>\n",
       "      <th>Business Description</th>\n",
       "      <th>Long Score</th>\n",
       "      <th>Short Score</th>\n",
       "      <th>Mkt Cap mn USD</th>\n",
       "      <th>Current Holding (Shares)</th>\n",
       "      <th>...</th>\n",
       "      <th>Value</th>\n",
       "      <th>Volatility</th>\n",
       "      <th>Short Term</th>\n",
       "      <th>Investment</th>\n",
       "      <th>fx</th>\n",
       "      <th>Stock      Price</th>\n",
       "      <th>Blank</th>\n",
       "      <th>Ticker</th>\n",
       "      <th>Long Score FS</th>\n",
       "      <th>Short Score FS</th>\n",
       "    </tr>\n",
       "  </thead>\n",
       "  <tbody>\n",
       "  </tbody>\n",
       "</table>\n",
       "<p>0 rows × 30 columns</p>\n",
       "</div>"
      ],
      "text/plain": [
       "Empty DataFrame\n",
       "Columns: [N, RIC, Name, Industry, GICS       Sector, Business Description, Long Score, Short Score, Mkt Cap mn USD, Current Holding (Shares), Current Holding (USD), Shares Needed, ReSize, Market, Days To Dividend, Dividend Date, Dividend Yield, Rate, Momentum, Cashflow, Value, Volatility, Short Term, Investment, fx, Stock      Price, Blank, Ticker, Long Score FS, Short Score FS]\n",
       "Index: []\n",
       "\n",
       "[0 rows x 30 columns]"
      ]
     },
     "execution_count": 31,
     "metadata": {},
     "output_type": "execute_result"
    }
   ],
   "source": [
    "# Find rows where 'Current Holding (USD)' is NOT > 0 or < 0 (i.e., it is 0 or None)\n",
    "invalid_close = close_trades[(close_trades['Current Holding (USD)'] == 0) | (close_trades['Current Holding (USD)'].isna())]\n",
    "\n",
    "# Display the rows\n",
    "invalid_close\n"
   ]
  },
  {
   "cell_type": "code",
   "execution_count": null,
   "id": "cc1d3aa4",
   "metadata": {},
   "outputs": [],
   "source": []
  },
  {
   "cell_type": "code",
   "execution_count": null,
   "id": "8d64189d",
   "metadata": {},
   "outputs": [],
   "source": []
  },
  {
   "cell_type": "markdown",
   "id": "04591375",
   "metadata": {},
   "source": [
    "Closing Trades:"
   ]
  },
  {
   "cell_type": "code",
   "execution_count": null,
   "id": "b3b095a0",
   "metadata": {},
   "outputs": [],
   "source": []
  },
  {
   "cell_type": "code",
   "execution_count": 32,
   "id": "71ff5cb4",
   "metadata": {},
   "outputs": [
    {
     "data": {
      "text/plain": [
       "(6, 30)"
      ]
     },
     "execution_count": 32,
     "metadata": {},
     "output_type": "execute_result"
    }
   ],
   "source": [
    "close_trades.shape"
   ]
  },
  {
   "cell_type": "code",
   "execution_count": 33,
   "id": "beccf8a5",
   "metadata": {},
   "outputs": [],
   "source": [
    "close_trades['Release Date/Time'] = ''\n",
    "\n",
    "close_trades['Release Time Zone'] = 'Asia/Singapore'\n",
    "\n",
    "close_trades['Scheme'] = ''  #Prime (NA)  #Prime (EMEA)  #Prime (Asia)\n",
    "\n",
    "close_trades['Account Allocation'] = ''  #CGS - MS Margin  #CGS - MS Swap\n",
    "\n",
    "close_trades['Identifier Type'] = 'RIC'\n",
    "\n",
    "close_trades['Execution Method'] = 'Electronic'\n",
    "\n",
    "close_trades['Order Type'] = 'Market'\n",
    "\n",
    "close_trades['Time In Force'] = 'Day'\n",
    "\n",
    "close_trades['Broker Account'] = 'CGS'\n",
    "\n",
    "close_trades['Identifier'] = close_trades['RIC']\n",
    "\n",
    "close_trades['Quantity'] = abs(close_trades['Current Holding (Shares)'])\n",
    "\n",
    "close_trades['Transaction Type'] = ''"
   ]
  },
  {
   "cell_type": "code",
   "execution_count": null,
   "id": "f1aef150",
   "metadata": {},
   "outputs": [],
   "source": []
  },
  {
   "cell_type": "code",
   "execution_count": 34,
   "id": "f95704f2",
   "metadata": {},
   "outputs": [],
   "source": [
    "#Account Allocation - Swap vs. Margin\n",
    "\n",
    "# Define the list of specific markets for \"CGS - MS Swap\"\n",
    "swap_markets = {\n",
    "    \"Brazil\", \"Chile\", \"Israel\", \"Saudi Arabia\", \"United Arab Emirates\", \n",
    "    \"Qatar\", \"Kuwait\", \"Korea\", \"Malaysia\", \"Taiwan\", \"China\", \"Philippines\", \"Indonesia\"\n",
    "}\n",
    "\n",
    "# Function to determine 'Account Allocation'\n",
    "def get_account_allocation(row):\n",
    "    if row[\"Market\"] == \"China\" and str(row[\"RIC\"]).endswith(\".HK\"):\n",
    "        return \"CGS - MS Margin\"  # Special case for China + .HK\n",
    "    elif row[\"Market\"] in swap_markets:\n",
    "        return \"CGS - MS Swap\"\n",
    "    else:\n",
    "        return \"CGS - MS Margin\"\n",
    "\n",
    "# Apply function to update 'Account Allocation'\n",
    "close_trades[\"Account Allocation\"] = close_trades.apply(get_account_allocation, axis=1)\n"
   ]
  },
  {
   "cell_type": "code",
   "execution_count": null,
   "id": "aa3019b8",
   "metadata": {},
   "outputs": [],
   "source": []
  },
  {
   "cell_type": "code",
   "execution_count": 35,
   "id": "2b433530",
   "metadata": {},
   "outputs": [],
   "source": [
    "# Scheme Type - Prime (NA / EMEA / Asia)\n",
    "\n",
    "\n",
    "prime_na = {\n",
    "    \"Brazil\", \"Canada\", \"Mexico\", \"United States\", \"Chile\"\n",
    "}\n",
    "\n",
    "prime_emea = {\n",
    "    \"Austria\", \"Belgium\", \"Czech Republic\", \"Germany\", \"Hungary\", \"Denmark\",\n",
    "    \"Estonia\", \"Finland\", \"France\", \"Ireland\", \"Italy\", \"Netherlands\", \"Norway\",\n",
    "    \"Poland\", \"Portugal\", \"Spain\", \"Sweden\", \"United Kingdom\", \"Israel\", \n",
    "    \"Switzerland\", \"Saudi Arabia\", \"United Arab Emirates\", \"Qatar\", \"Kuwait\"\n",
    "}\n",
    "\n",
    "prime_asia = {\n",
    "    \"Australia\", \"Japan\", \"New Zealand\", \"Korea\", \"Singapore\", \"Malaysia\", \n",
    "    \"Taiwan\", \"Hong Kong\", \"China\", \"Philippines\", \"Indonesia\", \"Thailand\"\n",
    "}\n",
    "\n",
    "# Function to assign Scheme\n",
    "def get_scheme(market):\n",
    "    if market in prime_na:\n",
    "        return \"Prime (NA)\"\n",
    "    elif market in prime_emea:\n",
    "        return \"Prime (EMEA)\"\n",
    "    elif market in prime_asia:\n",
    "        return \"Prime (Asia)\"\n",
    "    else:\n",
    "        return \"\"  # Default for markets not in the lists\n",
    "\n",
    "# Apply function to 'Scheme' column\n",
    "close_trades[\"Scheme\"] = close_trades[\"Market\"].apply(get_scheme)\n"
   ]
  },
  {
   "cell_type": "code",
   "execution_count": null,
   "id": "b636845e",
   "metadata": {},
   "outputs": [],
   "source": []
  },
  {
   "cell_type": "code",
   "execution_count": 36,
   "id": "a6768a49",
   "metadata": {},
   "outputs": [],
   "source": [
    "#Transaction Type - Sell / BuyToCover\n",
    "\n",
    "\n",
    "# Function to determine Transaction Type\n",
    "def get_transaction_type(holding_shares):\n",
    "    if holding_shares > 0:\n",
    "        return \"Sell\"\n",
    "    elif holding_shares < 0:\n",
    "        return \"BuyToCover\"\n",
    "    else:\n",
    "        return \"\"  # Default if neither condition is met\n",
    "\n",
    "# Apply function to create 'Transaction Type' column\n",
    "close_trades[\"Transaction Type\"] = close_trades[\"Current Holding (Shares)\"].apply(get_transaction_type)"
   ]
  },
  {
   "cell_type": "code",
   "execution_count": null,
   "id": "c1029d58",
   "metadata": {},
   "outputs": [],
   "source": []
  },
  {
   "cell_type": "code",
   "execution_count": 37,
   "id": "786e06be",
   "metadata": {},
   "outputs": [],
   "source": [
    "close_trades_final = close_trades[['Release Date/Time','Release Time Zone','Scheme','Account Allocation','Transaction Type','Identifier','Identifier Type','Quantity','Execution Method','Order Type','Time In Force','Broker Account']]"
   ]
  },
  {
   "cell_type": "code",
   "execution_count": 38,
   "id": "ba9e3d38",
   "metadata": {},
   "outputs": [],
   "source": [
    "# Set 'Release Date/Time' as index\n",
    "close_trades_final = close_trades_final.set_index(\"Release Date/Time\")"
   ]
  },
  {
   "cell_type": "code",
   "execution_count": 39,
   "id": "d8cef892",
   "metadata": {},
   "outputs": [
    {
     "data": {
      "text/plain": [
       "(6, 11)"
      ]
     },
     "execution_count": 39,
     "metadata": {},
     "output_type": "execute_result"
    }
   ],
   "source": [
    "close_trades_final.shape"
   ]
  },
  {
   "cell_type": "code",
   "execution_count": null,
   "id": "5993c335",
   "metadata": {},
   "outputs": [],
   "source": []
  },
  {
   "cell_type": "code",
   "execution_count": 40,
   "id": "bb30bdef",
   "metadata": {},
   "outputs": [],
   "source": [
    "###\n",
    "\n",
    "\n",
    "import pandas as pd\n",
    "from openpyxl import load_workbook\n",
    "\n",
    "# Define the output file name\n",
    "file_name = \"Closing_trades_Automated_2025-02-27.xlsx\"\n",
    "\n",
    "# Export DataFrame to Excel\n",
    "close_trades_final.to_excel(file_name, engine=\"openpyxl\")\n",
    "\n",
    "# Load the workbook and select the active worksheet\n",
    "wb = load_workbook(file_name)\n",
    "ws = wb.active\n",
    "\n",
    "# Adjust column width to 25 for all columns\n",
    "for col in ws.columns:\n",
    "    col_letter = col[0].column_letter  # Get column letter (A, B, C, etc.)\n",
    "    ws.column_dimensions[col_letter].width = 20  # Set width to 20\n",
    "\n",
    "# Save the changes\n",
    "wb.save(file_name)\n"
   ]
  },
  {
   "cell_type": "code",
   "execution_count": null,
   "id": "e4dd8dcf",
   "metadata": {},
   "outputs": [],
   "source": []
  },
  {
   "cell_type": "code",
   "execution_count": null,
   "id": "fd72152e",
   "metadata": {},
   "outputs": [],
   "source": []
  },
  {
   "cell_type": "markdown",
   "id": "b07e6dca",
   "metadata": {},
   "source": [
    "Opening Trades (1):"
   ]
  },
  {
   "cell_type": "code",
   "execution_count": null,
   "id": "3fb9cace",
   "metadata": {},
   "outputs": [],
   "source": []
  },
  {
   "cell_type": "code",
   "execution_count": 41,
   "id": "ddaeb843",
   "metadata": {},
   "outputs": [
    {
     "data": {
      "text/plain": [
       "(12, 30)"
      ]
     },
     "execution_count": 41,
     "metadata": {},
     "output_type": "execute_result"
    }
   ],
   "source": [
    "open_trades.shape"
   ]
  },
  {
   "cell_type": "code",
   "execution_count": 42,
   "id": "8bcbbab3",
   "metadata": {},
   "outputs": [],
   "source": [
    "open_trades['Release Date/Time'] = ''\n",
    "\n",
    "open_trades['Release Time Zone'] = 'Asia/Singapore'\n",
    "\n",
    "open_trades['Scheme'] = ''  #Prime (NA)  #Prime (EMEA)  #Prime (Asia)\n",
    "\n",
    "open_trades['Account Allocation'] = ''  #CGS - MS Margin  #CGS - MS Swap\n",
    "\n",
    "open_trades['Identifier Type'] = 'RIC'\n",
    "\n",
    "open_trades['Execution Method'] = 'Electronic'\n",
    "\n",
    "open_trades['Order Type'] = 'Market'\n",
    "\n",
    "open_trades['Time In Force'] = 'Day'\n",
    "\n",
    "open_trades['Broker Account'] = 'CGS'\n",
    "\n",
    "open_trades['Identifier'] = open_trades['RIC']\n",
    "\n",
    "open_trades['Quantity'] = ''\n",
    "\n",
    "open_trades['Transaction Type'] = ''"
   ]
  },
  {
   "cell_type": "code",
   "execution_count": null,
   "id": "3757704b",
   "metadata": {},
   "outputs": [],
   "source": []
  },
  {
   "cell_type": "code",
   "execution_count": 43,
   "id": "0ed68cce",
   "metadata": {},
   "outputs": [],
   "source": [
    "#Account Allocation - Swap vs. Margin\n",
    "\n",
    "open_trades[\"Account Allocation\"] = open_trades.apply(get_account_allocation, axis=1)"
   ]
  },
  {
   "cell_type": "code",
   "execution_count": null,
   "id": "ea3136dc",
   "metadata": {},
   "outputs": [],
   "source": []
  },
  {
   "cell_type": "code",
   "execution_count": 44,
   "id": "2de9edb4",
   "metadata": {},
   "outputs": [],
   "source": [
    "# Scheme Type - Prime (NA / EMEA / Asia)\n",
    "\n",
    "open_trades[\"Scheme\"] = open_trades[\"Market\"].apply(get_scheme)"
   ]
  },
  {
   "cell_type": "code",
   "execution_count": null,
   "id": "af6b3d29",
   "metadata": {},
   "outputs": [],
   "source": []
  },
  {
   "cell_type": "code",
   "execution_count": 45,
   "id": "b572d105",
   "metadata": {},
   "outputs": [],
   "source": [
    "#Transaction Type - Sell / BuyToCover\n",
    "\n",
    "\n",
    "# Function to determine Transaction Type\n",
    "\n",
    "def get_transaction_type_1(Long_Font_Size):\n",
    "    if Long_Font_Size == 18:\n",
    "        return \"Buy\"\n",
    "    elif Long_Font_Size == 12:\n",
    "        return \"SellShort\"\n",
    "    else:\n",
    "        return \"\"  # Default if neither condition is met\n",
    "\n",
    "# Apply function to create 'Transaction Type' column\n",
    "open_trades[\"Transaction Type\"] = open_trades[\"Long Score FS\"].apply(get_transaction_type_1)"
   ]
  },
  {
   "cell_type": "code",
   "execution_count": null,
   "id": "02284aca",
   "metadata": {},
   "outputs": [],
   "source": []
  },
  {
   "cell_type": "code",
   "execution_count": null,
   "id": "4d656bcc",
   "metadata": {},
   "outputs": [],
   "source": []
  },
  {
   "cell_type": "code",
   "execution_count": null,
   "id": "63a01a5d",
   "metadata": {},
   "outputs": [],
   "source": []
  },
  {
   "cell_type": "code",
   "execution_count": 46,
   "id": "2024fc1a",
   "metadata": {},
   "outputs": [],
   "source": [
    "# Link to the PA file, link the position size, then divide by fx, then pull prices from refinitiv and calculate quantity.\n",
    "\n",
    "# Make sure there is a line to check blank / error prices.\n",
    "\n",
    "#Quantity should be in integer and what about rounding?"
   ]
  },
  {
   "cell_type": "code",
   "execution_count": null,
   "id": "6cd9ddd7",
   "metadata": {},
   "outputs": [],
   "source": []
  },
  {
   "cell_type": "code",
   "execution_count": null,
   "id": "4a968ec3",
   "metadata": {},
   "outputs": [],
   "source": []
  },
  {
   "cell_type": "markdown",
   "id": "d2a4f773",
   "metadata": {},
   "source": [
    "Opening Trades (2): Link to PA file Summary tab for position size per Market Adj:"
   ]
  },
  {
   "cell_type": "code",
   "execution_count": 53,
   "id": "5088b8e6",
   "metadata": {},
   "outputs": [
    {
     "name": "stdout",
     "output_type": "stream",
     "text": [
      "Requirement already satisfied: openpyxl in c:\\users\\vedant wanchoo\\anaconda3\\lib\\site-packages (3.0.9)\n",
      "Collecting openpyxl\n",
      "  Downloading openpyxl-3.1.5-py2.py3-none-any.whl (250 kB)\n",
      "Requirement already satisfied: et-xmlfile in c:\\users\\vedant wanchoo\\anaconda3\\lib\\site-packages (from openpyxl) (1.1.0)\n",
      "Installing collected packages: openpyxl\n",
      "  Attempting uninstall: openpyxl\n",
      "    Found existing installation: openpyxl 3.0.9\n",
      "    Uninstalling openpyxl-3.0.9:\n",
      "      Successfully uninstalled openpyxl-3.0.9\n",
      "Successfully installed openpyxl-3.1.5\n"
     ]
    }
   ],
   "source": [
    "!pip install --upgrade openpyxl"
   ]
  },
  {
   "cell_type": "code",
   "execution_count": 1,
   "id": "1f490ba0",
   "metadata": {},
   "outputs": [],
   "source": [
    "## \n",
    "\n",
    "#Input = pd.read_excel(latest_file,sheet_name='Summary')"
   ]
  },
  {
   "cell_type": "code",
   "execution_count": null,
   "id": "e368171b",
   "metadata": {},
   "outputs": [],
   "source": [
    "Input1 = Input.iloc[41:64,1:35]\n",
    "Input1.columns = Input1.iloc[0,:]\n",
    "Input1 = Input1.iloc[1:,:]\n",
    "Input1"
   ]
  },
  {
   "cell_type": "code",
   "execution_count": null,
   "id": "69937736",
   "metadata": {},
   "outputs": [],
   "source": [
    "Input1.shape"
   ]
  },
  {
   "cell_type": "code",
   "execution_count": null,
   "id": "2aea58ab",
   "metadata": {},
   "outputs": [],
   "source": [
    "Input2 = Input1[['Market','Long Position Size','Short Position Size']]\n",
    "\n",
    "Input2.reset_index(drop=True,inplace=True)"
   ]
  },
  {
   "cell_type": "code",
   "execution_count": null,
   "id": "2012635f",
   "metadata": {},
   "outputs": [],
   "source": [
    "Input2.shape"
   ]
  },
  {
   "cell_type": "code",
   "execution_count": null,
   "id": "a3cd2690",
   "metadata": {},
   "outputs": [],
   "source": [
    "# Function to duplicate rows for specified markets\n",
    "def duplicate_market_rows(df, original_market, new_markets):\n",
    "    duplicated_rows = df[df[\"Market\"] == original_market].copy()\n",
    "    result = []\n",
    "    \n",
    "    for new_market in new_markets:\n",
    "        temp = duplicated_rows.copy()\n",
    "        temp[\"Market\"] = new_market\n",
    "        result.append(temp)\n",
    "    \n",
    "    return pd.concat(result, ignore_index=True)\n",
    "\n",
    "# List of duplications\n",
    "duplications = {\n",
    "    \"United Kingdom\": [\"Ireland\"],\n",
    "    \"Germanic\": [\"Germany\", \"Austria\"],\n",
    "    \"Australia\": [\"New Zealand\"],\n",
    "    \"Nordic\": [\"Norway\", \"Sweden\", \"Denmark\", \"Finland\"],\n",
    "    \"ASEAN\": [\"Indonesia\", \"Malaysia\", \"Thailand\", \"Philippines\"],\n",
    "    \"Southern Europe\": [\"Spain\", \"Portugal\", \"Italy\"],\n",
    "    \"Bel-Ned\": [\"Belgium\", \"Netherlands\"],\n",
    "    \"Emerging Europe\": [\"Hungary\", \"Poland\", \"Estonia\", \"Latvia\", \"Czech Republic\"],\n",
    "    \"LatAm\": [\"Brazil\", \"Chile\"],\n",
    "    \"GCC\": [\"United Arab Emirates\", \"Saudi Arabia\", \"Qatar\", \"Kuwait\"]\n",
    "}\n",
    "\n",
    "# Apply duplication logic\n",
    "new_rows = [duplicate_market_rows(Input2, key, value) for key, value in duplications.items()]\n",
    "\n",
    "# Append new rows to original DataFrame\n",
    "Input3 = pd.concat([Input2] + new_rows, ignore_index=True)"
   ]
  },
  {
   "cell_type": "code",
   "execution_count": null,
   "id": "53fb62a3",
   "metadata": {},
   "outputs": [],
   "source": [
    "Input3.shape"
   ]
  },
  {
   "cell_type": "code",
   "execution_count": null,
   "id": "02df04d1",
   "metadata": {},
   "outputs": [],
   "source": [
    "open_trades.shape"
   ]
  },
  {
   "cell_type": "code",
   "execution_count": null,
   "id": "d8aba265",
   "metadata": {},
   "outputs": [],
   "source": [
    "open_trades = open_trades.merge(Input3, on=\"Market\", how=\"left\")"
   ]
  },
  {
   "cell_type": "code",
   "execution_count": null,
   "id": "b01c3136",
   "metadata": {},
   "outputs": [],
   "source": [
    "open_trades.shape"
   ]
  },
  {
   "cell_type": "code",
   "execution_count": null,
   "id": "ebec37db",
   "metadata": {},
   "outputs": [],
   "source": [
    "open_trades['Position Size USD'] = 0\n",
    "\n",
    "open_trades.loc[open_trades[\"Transaction Type\"] == \"Buy\", \"Position Size USD\"] = open_trades[\"Long Position Size\"]\n",
    "open_trades.loc[open_trades[\"Transaction Type\"] == \"SellShort\", \"Position Size USD\"] = open_trades[\"Short Position Size\"]\n",
    "\n",
    "open_trades['Position Size LC'] = open_trades['Position Size USD'] * open_trades['fx']"
   ]
  },
  {
   "cell_type": "code",
   "execution_count": null,
   "id": "ae23555c",
   "metadata": {},
   "outputs": [],
   "source": [
    "open_trades.shape"
   ]
  },
  {
   "cell_type": "code",
   "execution_count": null,
   "id": "7981736e",
   "metadata": {},
   "outputs": [],
   "source": []
  },
  {
   "cell_type": "code",
   "execution_count": null,
   "id": "0f330752",
   "metadata": {},
   "outputs": [],
   "source": []
  },
  {
   "cell_type": "markdown",
   "id": "b8ff76e0",
   "metadata": {},
   "source": [
    "Opening Trades (3): Link to Refinitiv to pull prices"
   ]
  },
  {
   "cell_type": "code",
   "execution_count": null,
   "id": "261f28d9",
   "metadata": {},
   "outputs": [],
   "source": [
    "#Keep the Refinitiv desktop version open"
   ]
  },
  {
   "cell_type": "code",
   "execution_count": 4,
   "id": "f2698408",
   "metadata": {},
   "outputs": [],
   "source": [
    "#pip install refinitiv-data"
   ]
  },
  {
   "cell_type": "code",
   "execution_count": null,
   "id": "5d6e431f",
   "metadata": {},
   "outputs": [],
   "source": []
  },
  {
   "cell_type": "code",
   "execution_count": 5,
   "id": "ddbfb49a",
   "metadata": {},
   "outputs": [
    {
     "name": "stdout",
     "output_type": "stream",
     "text": [
      "Refinitiv API is working!\n"
     ]
    }
   ],
   "source": [
    "import refinitiv.data as rd\n",
    "rd.open_session()\n",
    "print(\"Refinitiv API is working!\")\n",
    "rd.close_session()"
   ]
  },
  {
   "cell_type": "code",
   "execution_count": null,
   "id": "559ee96b",
   "metadata": {},
   "outputs": [],
   "source": []
  },
  {
   "cell_type": "code",
   "execution_count": null,
   "id": "9b57774a",
   "metadata": {},
   "outputs": [],
   "source": [
    "import refinitiv.data as rd\n",
    "\n",
    "\n",
    "# Authenticate with Refinitiv Workspace\n",
    "rd.open_session()\n",
    "\n",
    "# Extract RICs from the dataframe\n",
    "ric_list = open_trades['RIC'].dropna().unique().tolist()\n",
    "\n",
    "# Fetch latest closing prices\n",
    "df_prices = rd.get_data(ric_list, [\"TR.CLOSEPRICE\"])  # Fetch closing price\n",
    "\n",
    "# Rename columns for clarity\n",
    "df_prices.rename(columns={'Instrument': 'RIC', 'Close Price': 'Close Price LC'}, inplace=True)\n",
    "\n",
    "# Merge with open_trades on 'RIC'\n",
    "open_trades = open_trades.merge(df_prices, on=\"RIC\", how=\"left\")\n",
    "\n",
    "# Close session (optional, but recommended)\n",
    "rd.close_session()"
   ]
  },
  {
   "cell_type": "code",
   "execution_count": null,
   "id": "09b307d5",
   "metadata": {},
   "outputs": [],
   "source": []
  },
  {
   "cell_type": "code",
   "execution_count": null,
   "id": "7965e3db",
   "metadata": {},
   "outputs": [],
   "source": [
    "open_trades.shape"
   ]
  },
  {
   "cell_type": "code",
   "execution_count": null,
   "id": "f120a119",
   "metadata": {},
   "outputs": [],
   "source": [
    "open_trades['Close Price LC']"
   ]
  },
  {
   "cell_type": "code",
   "execution_count": null,
   "id": "dc86fac0",
   "metadata": {},
   "outputs": [],
   "source": []
  },
  {
   "cell_type": "code",
   "execution_count": 122,
   "id": "b13b05ee",
   "metadata": {},
   "outputs": [],
   "source": [
    "open_trades_final = open_trades[['Release Date/Time','Release Time Zone','Scheme','Account Allocation','Transaction Type','Identifier','Identifier Type','Quantity','Execution Method','Order Type','Time In Force','Broker Account']]"
   ]
  },
  {
   "cell_type": "code",
   "execution_count": 123,
   "id": "a3350d1a",
   "metadata": {},
   "outputs": [],
   "source": [
    "# Set 'Release Date/Time' as index\n",
    "open_trades_final = open_trades_final.set_index(\"Release Date/Time\")"
   ]
  },
  {
   "cell_type": "code",
   "execution_count": 124,
   "id": "ec3edd63",
   "metadata": {},
   "outputs": [
    {
     "data": {
      "text/plain": [
       "(12, 11)"
      ]
     },
     "execution_count": 124,
     "metadata": {},
     "output_type": "execute_result"
    }
   ],
   "source": [
    "open_trades_final.shape"
   ]
  },
  {
   "cell_type": "code",
   "execution_count": null,
   "id": "3e6e20d1",
   "metadata": {},
   "outputs": [],
   "source": []
  },
  {
   "cell_type": "code",
   "execution_count": 125,
   "id": "28687155",
   "metadata": {},
   "outputs": [],
   "source": [
    "#Double Sort by Indentifier and TT"
   ]
  },
  {
   "cell_type": "code",
   "execution_count": null,
   "id": "d2e13215",
   "metadata": {},
   "outputs": [],
   "source": []
  },
  {
   "cell_type": "code",
   "execution_count": 126,
   "id": "6cc4e9f2",
   "metadata": {},
   "outputs": [],
   "source": [
    "###\n",
    "\n",
    "\n",
    "import pandas as pd\n",
    "from openpyxl import load_workbook\n",
    "\n",
    "# Define the output file name\n",
    "file_name = \"Opening_trades_Automated_2025-02-27.xlsx\"\n",
    "\n",
    "# Export DataFrame to Excel\n",
    "open_trades_final.to_excel(file_name, engine=\"openpyxl\")\n",
    "\n",
    "# Load the workbook and select the active worksheet\n",
    "wb = load_workbook(file_name)\n",
    "ws = wb.active\n",
    "\n",
    "# Adjust column width to 25 for all columns\n",
    "for col in ws.columns:\n",
    "    col_letter = col[0].column_letter  # Get column letter (A, B, C, etc.)\n",
    "    ws.column_dimensions[col_letter].width = 20  # Set width to 20\n",
    "\n",
    "# Save the changes\n",
    "wb.save(file_name)\n"
   ]
  },
  {
   "cell_type": "code",
   "execution_count": null,
   "id": "c8940894",
   "metadata": {},
   "outputs": [],
   "source": []
  },
  {
   "cell_type": "markdown",
   "id": "04a9f1e0",
   "metadata": {},
   "source": [
    "MS short request file:"
   ]
  },
  {
   "cell_type": "code",
   "execution_count": 127,
   "id": "b9e6e077",
   "metadata": {},
   "outputs": [
    {
     "data": {
      "text/plain": [
       "(12, 42)"
      ]
     },
     "execution_count": 127,
     "metadata": {},
     "output_type": "execute_result"
    }
   ],
   "source": [
    "open_trades.shape"
   ]
  },
  {
   "cell_type": "code",
   "execution_count": 128,
   "id": "50056af1",
   "metadata": {},
   "outputs": [],
   "source": [
    "MS = open_trades.copy()"
   ]
  },
  {
   "cell_type": "code",
   "execution_count": 129,
   "id": "15730c37",
   "metadata": {},
   "outputs": [],
   "source": [
    "MS['RAWQ'] = MS['Quantity']\n",
    "MS['QT'] = MS['Quantity']\n",
    "MS['Price'] = 5\n",
    "\n",
    "MS = MS[['RIC','Price','RAWQ','QT','Market']]"
   ]
  },
  {
   "cell_type": "code",
   "execution_count": 130,
   "id": "df0d0957",
   "metadata": {},
   "outputs": [
    {
     "data": {
      "text/plain": [
       "(12, 5)"
      ]
     },
     "execution_count": 130,
     "metadata": {},
     "output_type": "execute_result"
    }
   ],
   "source": [
    "MS.shape"
   ]
  },
  {
   "cell_type": "code",
   "execution_count": 131,
   "id": "bab33588",
   "metadata": {},
   "outputs": [],
   "source": [
    "MS = MS.set_index('RIC')"
   ]
  },
  {
   "cell_type": "code",
   "execution_count": 132,
   "id": "a854fc81",
   "metadata": {},
   "outputs": [
    {
     "data": {
      "text/plain": [
       "(12, 4)"
      ]
     },
     "execution_count": 132,
     "metadata": {},
     "output_type": "execute_result"
    }
   ],
   "source": [
    "MS.shape"
   ]
  },
  {
   "cell_type": "code",
   "execution_count": 133,
   "id": "d3882e64",
   "metadata": {},
   "outputs": [],
   "source": [
    "###\n",
    "\n",
    "MS.to_csv('MS_Shorts_Request_2025-02-27.csv')"
   ]
  },
  {
   "cell_type": "code",
   "execution_count": null,
   "id": "7041d52a",
   "metadata": {},
   "outputs": [],
   "source": []
  },
  {
   "cell_type": "code",
   "execution_count": null,
   "id": "0d145061",
   "metadata": {},
   "outputs": [],
   "source": []
  }
 ],
 "metadata": {
  "kernelspec": {
   "display_name": "Python 3 (ipykernel)",
   "language": "python",
   "name": "python3"
  },
  "language_info": {
   "codemirror_mode": {
    "name": "ipython",
    "version": 3
   },
   "file_extension": ".py",
   "mimetype": "text/x-python",
   "name": "python",
   "nbconvert_exporter": "python",
   "pygments_lexer": "ipython3",
   "version": "3.12.3"
  }
 },
 "nbformat": 4,
 "nbformat_minor": 5
}
